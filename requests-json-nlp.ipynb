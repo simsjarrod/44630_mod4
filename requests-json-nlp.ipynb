{
 "cells": [
  {
   "cell_type": "markdown",
   "metadata": {},
   "source": [
    "# Web Mining and Applied NLP (44-620)\n",
    "\n",
    "## Requests, JSON, and NLP\n",
    "\n",
    "### Student Name: Jarrod Sims\n",
    "\n",
    "### GitHub Repo: https://github.com/simsjarrod/44630_mod4\n",
    "\n",
    "Perform the tasks described in the Markdown cells below.  When you have completed the assignment make sure your code cells have all been run (and have output beneath them) and ensure you have committed and pushed ALL of your changes to your assignment repository.\n",
    "\n",
    "Make sure you have [installed spaCy and its pipeline](https://spacy.io/usage#quickstart) and [spaCyTextBlob](https://spacy.io/universe/project/spacy-textblob)\n",
    "\n",
    "Every question that requires you to write code will have a code cell underneath it; you may either write your entire solution in that cell or write it in a python file (`.py`), then import and run the appropriate code to answer the question.\n",
    "\n",
    "This assignment requires that you write additional files (either JSON or pickle files); make sure to submit those files in your repository as well."
   ]
  },
  {
   "cell_type": "markdown",
   "metadata": {},
   "source": [
    "### Question 1\n",
    "\n",
    "The following code accesses the [lyrics.ovh](https://lyricsovh.docs.apiary.io/#reference/0/lyrics-of-a-song/search) public api, searches for the lyrics of a song, and stores it in a dictionary object.  Write the resulting json to a file (either a JSON file or a pickle file; you choose). You will read in the contents of this file for future questions so we do not need to frequently access the API."
   ]
  },
  {
   "cell_type": "code",
   "execution_count": 79,
   "metadata": {},
   "outputs": [
    {
     "name": "stdout",
     "output_type": "stream",
     "text": [
      "Searching for \"Fake Plastic Trees\" by Radiohead...\n",
      "Done.\n"
     ]
    }
   ],
   "source": [
    "import requests\n",
    "import json\n",
    "import lyricsgenius\n",
    "\n",
    "#access lyricsgenius key\n",
    "with open(\"genius_config.txt\") as f:\n",
    "    key = f.read() \n",
    "genius = lyricsgenius.Genius(key)\n",
    "\n",
    "#artist = genius.search_artist(\"Radiohead\", max_songs=3, sort=\"title\")\n",
    "#print(artist.songs)\n",
    "\n",
    "song = artist.song('Fake Plastic Trees')\n",
    "lyrics = song.lyrics\n",
    "\n",
    "song_dict = {\n",
    "    'artist': 'Radiohead',\n",
    "    'title': 'Fake Plastic Trees',\n",
    "    'lyrics': lyrics\n",
    "}\n",
    "\n",
    "with open('Fake_Plastic_Trees.json', 'w') as new_file:\n",
    "    json.dump(song_dict, new_file)\n"
   ]
  },
  {
   "cell_type": "markdown",
   "metadata": {},
   "source": [
    "### Question 2\n",
    "Read in the contents of your file.  Print the lyrics of the song (not the entire dictionary!) and use spaCyTextBlob to perform sentiment analysis on the lyrics.  Print the polarity score of the sentiment analysis.  Given that the range of the polarity score is `[-1.0,1.0]` which corresponds to how positive or negative the text in question is, do you think the lyrics have a more positive or negative connotaion?  Answer this question in a comment in your code cell."
   ]
  },
  {
   "cell_type": "code",
   "execution_count": 81,
   "metadata": {},
   "outputs": [
    {
     "name": "stdout",
     "output_type": "stream",
     "text": [
      "Fake Plastic Trees Lyrics\n",
      "[Verse 1]\n",
      "A green plastic watering can\n",
      "For a fake Chinese rubber plant\n",
      "In a fake plastic earth\n",
      "That she bought from a rubber man\n",
      "In a town full of rubber plants\n",
      "To get rid of itself\n",
      "\n",
      "[Chorus]\n",
      "It wears her out\n",
      "It wears her out\n",
      "It wears her out\n",
      "It wears her out\n",
      "\n",
      "[Verse 2]\n",
      "She lives with a broken man\n",
      "A cracked polystyrene man\n",
      "Who just crumbles and burns\n",
      "He used to do surgery\n",
      "For girls in the eighties\n",
      "But gravity always wins\n",
      "\n",
      "[Chorus]\n",
      "And it wears him out\n",
      "It wears him out\n",
      "It wears him out\n",
      "It wears\n",
      "You might also like[Verse 3]\n",
      "She looks like the real thing\n",
      "She tastes like the real thing\n",
      "My fake plastic love\n",
      "But I can't help the feeling\n",
      "I could blow through the ceiling\n",
      "If I just turn and run\n",
      "\n",
      "[Chorus]\n",
      "And it wears me out\n",
      "It wears me out\n",
      "It wears me out\n",
      "It wears me out\n",
      "\n",
      "[Outro]\n",
      "And if I could be who you wanted\n",
      "If I could be who you wanted\n",
      "All the time\n",
      "All the time86Embed\n"
     ]
    }
   ],
   "source": [
    "#print lyrics\n",
    "with open('Fake_Plastic_Trees.json') as file:\n",
    "    data = json.load(file)\n",
    "lyrics = data['lyrics']\n",
    "print(lyrics)"
   ]
  },
  {
   "cell_type": "code",
   "execution_count": 102,
   "metadata": {},
   "outputs": [
    {
     "name": "stdout",
     "output_type": "stream",
     "text": [
      "Polarity score: -0.08750000000000001\n"
     ]
    }
   ],
   "source": [
    "import spacy\n",
    "from spacytextblob.spacytextblob import SpacyTextBlob\n",
    "\n",
    "nlp = spacy.load(\"en_core_web_sm\")\n",
    "nlp.add_pipe('spacytextblob')\n",
    "doc = nlp(lyrics)\n",
    "polarity = doc._.polarity\n",
    "print(\"Polarity score:\", polarity)\n",
    "\n",
    "#Polarity score: -0.08750000000000001\n",
    "#Becuase the polarity score is very close to zero, I would classify this as neutral."
   ]
  },
  {
   "cell_type": "markdown",
   "metadata": {},
   "source": [
    "3. Write a function that takes an artist, song, and filename, accesses the lyrics.ovh api to get the song lyrics, and writes the results to the specified filename.  Test this function by getting the lyrics to any four songs of your choice and storing them in different files."
   ]
  },
  {
   "cell_type": "code",
   "execution_count": null,
   "metadata": {},
   "outputs": [],
   "source": []
  },
  {
   "cell_type": "markdown",
   "metadata": {},
   "source": [
    "4. Write a function that takes the name of a file that contains song lyrics, loads the file, performs sentiment analysis, and returns the polarity score.  Use this function to print the polarity scores (with the name of the song) of the three files you created in question 3.  Does the reported polarity match your understanding of the song's lyrics? Why or why not do you think that might be?  Answer the questions in either a comment in the code cell or a markdown cell under the code cell."
   ]
  },
  {
   "cell_type": "code",
   "execution_count": null,
   "metadata": {},
   "outputs": [],
   "source": []
  }
 ],
 "metadata": {
  "kernelspec": {
   "display_name": "Python 3",
   "language": "python",
   "name": "python3"
  },
  "language_info": {
   "codemirror_mode": {
    "name": "ipython",
    "version": 3
   },
   "file_extension": ".py",
   "mimetype": "text/x-python",
   "name": "python",
   "nbconvert_exporter": "python",
   "pygments_lexer": "ipython3",
   "version": "3.10.9"
  }
 },
 "nbformat": 4,
 "nbformat_minor": 4
}
